{
 "cells": [
  {
   "cell_type": "code",
   "id": "initial_id",
   "metadata": {
    "collapsed": true,
    "ExecuteTime": {
     "end_time": "2025-02-06T17:58:32.259698Z",
     "start_time": "2025-02-06T17:58:32.213910Z"
    }
   },
   "source": [
    "%load_ext autoreload\n",
    "%autoreload 2"
   ],
   "outputs": [],
   "execution_count": 1
  },
  {
   "metadata": {
    "ExecuteTime": {
     "end_time": "2025-02-06T17:59:14.288595Z",
     "start_time": "2025-02-06T17:59:14.245364Z"
    }
   },
   "cell_type": "code",
   "source": [
    "import logging\n",
    "from sys import stdout # Esta funcion es peligrosa jajaj permite rev shell\n",
    "from datetime import datetime\n",
    "import numpy as np\n",
    "import os\n",
    "\n",
    "logging.basicConfig(\n",
    "    level=logging.INFO,\n",
    "    format=\"[%(asctime)s][%(levelname)s] %(message)s\",\n",
    "    stream=stdout,\n",
    "    datefmt=\"%m-%d %H:%M:%S\",\n",
    ")\n",
    "\n",
    "logging.info(f\"{os.getlogin()}| {datetime.now()}\")\n",
    "\n",
    "# ####################################################################\n",
    "def gauss_jordan(Ab: np.ndarray) -> np.ndarray:\n",
    "    \"\"\"Resuelve un sistema de ecuaciones lineales mediante el método de Gauss-Jordan.\n",
    "\n",
    "    ## Parameters\n",
    "\n",
    "    ``Ab``: matriz aumentada del sistema de ecuaciones lineales. Debe ser de tamaño n-by-(n+1), donde n es el número de incógnitas.\n",
    "\n",
    "    ## Return\n",
    "\n",
    "    ``solucion``: vector con la solución del sistema de ecuaciones lineales.\n",
    "\n",
    "    \"\"\"\n",
    "    if not isinstance(Ab, np.ndarray):\n",
    "        logging.debug(\"Convirtiendo A a numpy array.\")\n",
    "        Ab = np.array(Ab, dtype=float)\n",
    "    assert Ab.shape[0] == Ab.shape[1] - 1, \"La matriz A debe ser de tamaño n-by-(n+1).\"\n",
    "    n = Ab.shape[0]\n",
    "\n",
    "    for i in range(0, n):  # loop por columna\n",
    "\n",
    "        # --- encontrar pivote\n",
    "        p = None  # default, first element\n",
    "        for pi in range(i, n):\n",
    "            if Ab[pi, i] == 0:\n",
    "                # must be nonzero\n",
    "                continue\n",
    "\n",
    "            if p is None:\n",
    "                # first nonzero element\n",
    "                p = pi\n",
    "                continue\n",
    "\n",
    "            if abs(Ab[pi, i]) < abs(Ab[p, i]):\n",
    "                p = pi\n",
    "\n",
    "        if p is None:\n",
    "            # no pivot found.\n",
    "            raise ValueError(\"No existe solución única.\")\n",
    "\n",
    "        if p != i:\n",
    "            # swap rows\n",
    "            logging.debug(f\"Intercambiando filas {i} y {p}\")\n",
    "            _aux = Ab[i, :].copy()\n",
    "            Ab[i, :] = Ab[p, :].copy()\n",
    "            Ab[p, :] = _aux\n",
    "\n",
    "        # --- Eliminación: loop por fila\n",
    "        for j in range(n):\n",
    "            if i == j:\n",
    "                continue\n",
    "            m = Ab[j, i] / Ab[i, i]\n",
    "            Ab[j, i:] = Ab[j, i:] - m * Ab[i, i:]\n",
    "\n",
    "        logging.info(f\"\\n{Ab}\")\n",
    "\n",
    "    if Ab[n - 1, n - 1] == 0:\n",
    "        raise ValueError(\"No existe solución única.\")\n",
    "\n",
    "    # --- Sustitución hacia atrás\n",
    "    solucion = np.zeros(n)\n",
    "\n",
    "    for i in range(n - 1, -1, -1):\n",
    "        solucion[i] = Ab[i, -1] / Ab[i, i]\n",
    "\n",
    "    return solucion"
   ],
   "id": "f9043f12dabf13da",
   "outputs": [
    {
     "name": "stdout",
     "output_type": "stream",
     "text": [
      "[02-06 12:59:14][INFO] answ3r| 2025-02-06 12:59:14.284837\n"
     ]
    }
   ],
   "execution_count": 4
  },
  {
   "metadata": {
    "ExecuteTime": {
     "end_time": "2025-02-06T18:00:57.443613Z",
     "start_time": "2025-02-06T18:00:57.394365Z"
    }
   },
   "cell_type": "code",
   "source": [
    "%autoreload 2\n",
    "from src import matriz_aumentada\n",
    "\n",
    "A = [\n",
    "    [1, 2, 3, 4],\n",
    "    [2, 5, 6, 7],\n",
    "    [3, 6, 8, 9],\n",
    "    [4, 7, 9, 10],\n",
    "]\n",
    "b = [1, -2, 3, 4]\n",
    "\n",
    "Ab = matriz_aumentada(A, b)\n",
    "\n",
    "print(Ab)"
   ],
   "id": "51b88ec21667bb45",
   "outputs": [
    {
     "name": "stdout",
     "output_type": "stream",
     "text": [
      "[02-06 13:00:57][INFO] 2025-02-06 13:00:57.435572\n",
      "[02-06 13:00:57][INFO] answ3r| 2025-02-06 13:00:57.435572\n",
      "[02-06 13:00:57][INFO] 2025-02-06 13:00:57.439444\n",
      "[02-06 13:00:57][INFO] answ3r| 2025-02-06 13:00:57.439444\n",
      "[[ 1.  2.  3.  4.  1.]\n",
      " [ 2.  5.  6.  7. -2.]\n",
      " [ 3.  6.  8.  9.  3.]\n",
      " [ 4.  7.  9. 10.  4.]]\n"
     ]
    }
   ],
   "execution_count": 5
  },
  {
   "metadata": {
    "ExecuteTime": {
     "end_time": "2025-02-06T18:08:35.986960Z",
     "start_time": "2025-02-06T18:08:35.945203Z"
    }
   },
   "cell_type": "code",
   "source": [
    "def inv_matrix(A: np.ndarray) -> np.ndarray:\n",
    "    \"\"\"Calcula la inversa de una matriz cuadrada mediante Gauss-Jordan.\n",
    "\n",
    "    ## Parameters\n",
    "    `A`: Matriz cuadrada de tamaño n x n.\n",
    "\n",
    "    ## Return\n",
    "    `A_inv`: Matriz inversa de A.\n",
    "    \"\"\"\n",
    "    if not isinstance(A, np.ndarray):\n",
    "        A = np.array(A, dtype=float)\n",
    "\n",
    "    assert A.shape[0] == A.shape[1], \"La matriz debe ser cuadrada.\"\n",
    "\n",
    "    n = A.shape[0]\n",
    "\n",
    "\n",
    "    Ab = np.hstack((A, np.eye(n)))\n",
    "\n",
    "    # Aplicar Gauss-Jordan\n",
    "    for i in range(n):\n",
    "        p = np.argmax(np.abs(Ab[i:, i])) + i\n",
    "        if Ab[p, i] == 0:\n",
    "            raise ValueError(\"La matriz no es invertible.\")\n",
    "\n",
    "        if p != i:\n",
    "            logging.debug(f\"Intercambiando filas {i} y {p}\")\n",
    "            Ab[[i, p]] = Ab[[p, i]]\n",
    "\n",
    "        # --- Normalización del pivote\n",
    "        Ab[i] = Ab[i] / Ab[i, i]\n",
    "\n",
    "        # --- Eliminación gaussiana\n",
    "        for j in range(n):\n",
    "            if i != j:\n",
    "                Ab[j] -= Ab[j, i] * Ab[i]\n",
    "\n",
    "    A_inv = Ab[:, n:]  # Extraer la parte derecha que ahora es la inversa\n",
    "    return A_inv\n",
    "\n",
    "\n",
    "A = np.array([[2, -3], [-1, 1]])\n",
    "A_inv = inv_matrix(A)\n",
    "print(A_inv)\n",
    "\n",
    "B = np.array([[4, 0, 0, 5], [1, 0, 4, 0], [3, 4, 1, 3],[1, 3, 3, 0]])\n",
    "B_inv = inv_matrix(B)\n",
    "print(B_inv)\n"
   ],
   "id": "d95ad62dc681e8af",
   "outputs": [
    {
     "name": "stdout",
     "output_type": "stream",
     "text": [
      "[[-1. -3.]\n",
      " [-1. -2.]]\n",
      "[[-36.  45.  60. -80.]\n",
      " [  3.  -4.  -5.   7.]\n",
      " [  9. -11. -15.  20.]\n",
      " [ 29. -36. -48.  64.]]\n"
     ]
    }
   ],
   "execution_count": 8
  },
  {
   "metadata": {},
   "cell_type": "code",
   "outputs": [],
   "execution_count": null,
   "source": "",
   "id": "e1b3bc28f9d99c16"
  }
 ],
 "metadata": {
  "kernelspec": {
   "display_name": "Python 3",
   "language": "python",
   "name": "python3"
  },
  "language_info": {
   "codemirror_mode": {
    "name": "ipython",
    "version": 2
   },
   "file_extension": ".py",
   "mimetype": "text/x-python",
   "name": "python",
   "nbconvert_exporter": "python",
   "pygments_lexer": "ipython2",
   "version": "2.7.6"
  }
 },
 "nbformat": 4,
 "nbformat_minor": 5
}
