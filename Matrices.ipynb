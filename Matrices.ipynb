{
 "cells": [
  {
   "cell_type": "code",
   "id": "initial_id",
   "metadata": {
    "collapsed": true,
    "ExecuteTime": {
     "end_time": "2025-02-06T17:58:32.259698Z",
     "start_time": "2025-02-06T17:58:32.213910Z"
    }
   },
   "source": [
    "%load_ext autoreload\n",
    "%autoreload 2"
   ],
   "outputs": [],
   "execution_count": 1
  },
  {
   "metadata": {
    "ExecuteTime": {
     "end_time": "2025-02-06T17:59:14.288595Z",
     "start_time": "2025-02-06T17:59:14.245364Z"
    }
   },
   "cell_type": "code",
   "source": [
    "import logging\n",
    "from sys import stdout # Esta funcion es peligrosa jajaj permite rev shell\n",
    "from datetime import datetime\n",
    "import numpy as np\n",
    "import os\n",
    "\n",
    "logging.basicConfig(\n",
    "    level=logging.INFO,\n",
    "    format=\"[%(asctime)s][%(levelname)s] %(message)s\",\n",
    "    stream=stdout,\n",
    "    datefmt=\"%m-%d %H:%M:%S\",\n",
    ")\n",
    "\n",
    "logging.info(f\"{os.getlogin()}| {datetime.now()}\")\n",
    "\n",
    "# ####################################################################\n",
    "def gauss_jordan(Ab: np.ndarray) -> np.ndarray:\n",
    "    \"\"\"Resuelve un sistema de ecuaciones lineales mediante el método de Gauss-Jordan.\n",
    "\n",
    "    ## Parameters\n",
    "\n",
    "    ``Ab``: matriz aumentada del sistema de ecuaciones lineales. Debe ser de tamaño n-by-(n+1), donde n es el número de incógnitas.\n",
    "\n",
    "    ## Return\n",
    "\n",
    "    ``solucion``: vector con la solución del sistema de ecuaciones lineales.\n",
    "\n",
    "    \"\"\"\n",
    "    if not isinstance(Ab, np.ndarray):\n",
    "        logging.debug(\"Convirtiendo A a numpy array.\")\n",
    "        Ab = np.array(Ab, dtype=float)\n",
    "    assert Ab.shape[0] == Ab.shape[1] - 1, \"La matriz A debe ser de tamaño n-by-(n+1).\"\n",
    "    n = Ab.shape[0]\n",
    "\n",
    "    for i in range(0, n):  # loop por columna\n",
    "\n",
    "        # --- encontrar pivote\n",
    "        p = None  # default, first element\n",
    "        for pi in range(i, n):\n",
    "            if Ab[pi, i] == 0:\n",
    "                # must be nonzero\n",
    "                continue\n",
    "\n",
    "            if p is None:\n",
    "                # first nonzero element\n",
    "                p = pi\n",
    "                continue\n",
    "\n",
    "            if abs(Ab[pi, i]) < abs(Ab[p, i]):\n",
    "                p = pi\n",
    "\n",
    "        if p is None:\n",
    "            # no pivot found.\n",
    "            raise ValueError(\"No existe solución única.\")\n",
    "\n",
    "        if p != i:\n",
    "            # swap rows\n",
    "            logging.debug(f\"Intercambiando filas {i} y {p}\")\n",
    "            _aux = Ab[i, :].copy()\n",
    "            Ab[i, :] = Ab[p, :].copy()\n",
    "            Ab[p, :] = _aux\n",
    "\n",
    "        # --- Eliminación: loop por fila\n",
    "        for j in range(n):\n",
    "            if i == j:\n",
    "                continue\n",
    "            m = Ab[j, i] / Ab[i, i]\n",
    "            Ab[j, i:] = Ab[j, i:] - m * Ab[i, i:]\n",
    "\n",
    "        logging.info(f\"\\n{Ab}\")\n",
    "\n",
    "    if Ab[n - 1, n - 1] == 0:\n",
    "        raise ValueError(\"No existe solución única.\")\n",
    "\n",
    "    # --- Sustitución hacia atrás\n",
    "    solucion = np.zeros(n)\n",
    "\n",
    "    for i in range(n - 1, -1, -1):\n",
    "        solucion[i] = Ab[i, -1] / Ab[i, i]\n",
    "\n",
    "    return solucion"
   ],
   "id": "f9043f12dabf13da",
   "outputs": [
    {
     "name": "stdout",
     "output_type": "stream",
     "text": [
      "[02-06 12:59:14][INFO] answ3r| 2025-02-06 12:59:14.284837\n"
     ]
    }
   ],
   "execution_count": 4
  },
  {
   "metadata": {
    "ExecuteTime": {
     "end_time": "2025-02-06T18:00:57.443613Z",
     "start_time": "2025-02-06T18:00:57.394365Z"
    }
   },
   "cell_type": "code",
   "source": [
    "%autoreload 2\n",
    "from src import matriz_aumentada\n",
    "\n",
    "A = [\n",
    "    [1, 2, 3, 4],\n",
    "    [2, 5, 6, 7],\n",
    "    [3, 6, 8, 9],\n",
    "    [4, 7, 9, 10],\n",
    "]\n",
    "b = [1, -2, 3, 4]\n",
    "\n",
    "Ab = matriz_aumentada(A, b)\n",
    "\n",
    "print(Ab)"
   ],
   "id": "51b88ec21667bb45",
   "outputs": [
    {
     "name": "stdout",
     "output_type": "stream",
     "text": [
      "[02-06 13:00:57][INFO] 2025-02-06 13:00:57.435572\n",
      "[02-06 13:00:57][INFO] answ3r| 2025-02-06 13:00:57.435572\n",
      "[02-06 13:00:57][INFO] 2025-02-06 13:00:57.439444\n",
      "[02-06 13:00:57][INFO] answ3r| 2025-02-06 13:00:57.439444\n",
      "[[ 1.  2.  3.  4.  1.]\n",
      " [ 2.  5.  6.  7. -2.]\n",
      " [ 3.  6.  8.  9.  3.]\n",
      " [ 4.  7.  9. 10.  4.]]\n"
     ]
    }
   ],
   "execution_count": 5
  },
  {
   "metadata": {
    "ExecuteTime": {
     "end_time": "2025-02-06T18:25:32.946187Z",
     "start_time": "2025-02-06T18:25:32.900422Z"
    }
   },
   "cell_type": "code",
   "source": [
    "# Cabe recalcar que podemos utilizar varios metodos de numpy y scipy para realizar la matriz ampliada e inversa\n",
    "#https://numpy.org/doc/stable/reference/generated/numpy.linalg.inv.html\n",
    "\n",
    "def inv_matrix(A):\n",
    "    \"\"\"Calcula la inversa de una matriz cuadrada mediante Gauss-Jordan.\n",
    "\n",
    "    ## Parameters\n",
    "    `A`: Matriz cuadrada como lista de listas.\n",
    "\n",
    "    ## Return\n",
    "    `A_inv`: Matriz inversa como lista de listas.\n",
    "    \"\"\"\n",
    "    n = len(A)\n",
    "\n",
    "    # Crear matriz aumentada manualmente con la identidad\n",
    "    Ab = [row + [1 if i == j else 0 for j in range(n)] for i, row in enumerate(A)]\n",
    "\n",
    "    # Aplicar Gauss-Jordan\n",
    "    for i in range(n):\n",
    "        p = max(range(i, n), key=lambda k: abs(Ab[k][i]))\n",
    "        if Ab[p][i] == 0:\n",
    "            raise ValueError(\"La matriz no es invertible.\")\n",
    "\n",
    "        if p != i:\n",
    "            logging.debug(f\"Intercambiando filas {i} y {p}\")\n",
    "            Ab[i], Ab[p] = Ab[p], Ab[i]\n",
    "\n",
    "        pivot = Ab[i][i]\n",
    "        Ab[i] = [x / pivot for x in Ab[i]]\n",
    "\n",
    "        for j in range(n):\n",
    "            if i != j:\n",
    "                factor = Ab[j][i]\n",
    "                Ab[j] = [Ab[j][k] - factor * Ab[i][k] for k in range(len(Ab[j]))]\n",
    "\n",
    "    A_inv = [row[n:] for row in Ab]\n",
    "    return A_inv\n",
    "\n",
    "\n",
    "A = [\n",
    "    [4, 0, 0, 5],\n",
    "    [1, 0, 4, 0],\n",
    "    [3, 4, 1, 3],\n",
    "    [1, 3, 3, 0],\n",
    "]\n",
    "matriz_A_inv = inv_matrix(A)\n",
    "\n",
    "for row in matriz_A_inv:\n",
    "    print(row)\n",
    "\n",
    "B = [[2, -3], [-1, 1]]\n",
    "matriz_B_inv = inv_matrix(B)\n",
    "for row in matriz_B_inv:\n",
    "    print(row)\n",
    "\n",
    "\n"
   ],
   "id": "e1b3bc28f9d99c16",
   "outputs": [
    {
     "name": "stdout",
     "output_type": "stream",
     "text": [
      "[-36.0, 45.0, 60.0, -80.0]\n",
      "[3.0, -4.0, -5.0, 7.0]\n",
      "[9.0, -11.0, -15.0, 20.0]\n",
      "[29.0, -36.0, -48.0, 64.0]\n",
      "[-1.0, -3.0]\n",
      "[-1.0, -2.0]\n"
     ]
    }
   ],
   "execution_count": 11
  }
 ],
 "metadata": {
  "kernelspec": {
   "display_name": "Python 3",
   "language": "python",
   "name": "python3"
  },
  "language_info": {
   "codemirror_mode": {
    "name": "ipython",
    "version": 2
   },
   "file_extension": ".py",
   "mimetype": "text/x-python",
   "name": "python",
   "nbconvert_exporter": "python",
   "pygments_lexer": "ipython2",
   "version": "2.7.6"
  }
 },
 "nbformat": 4,
 "nbformat_minor": 5
}
